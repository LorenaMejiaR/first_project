{
 "cells": [
  {
   "cell_type": "code",
   "execution_count": 1,
   "id": "56e12d17-207c-49cd-83bd-5d595a253062",
   "metadata": {},
   "outputs": [
    {
     "data": {
      "text/html": [
       "<div>\n",
       "<style scoped>\n",
       "    .dataframe tbody tr th:only-of-type {\n",
       "        vertical-align: middle;\n",
       "    }\n",
       "\n",
       "    .dataframe tbody tr th {\n",
       "        vertical-align: top;\n",
       "    }\n",
       "\n",
       "    .dataframe thead th {\n",
       "        text-align: right;\n",
       "    }\n",
       "</style>\n",
       "<table border=\"1\" class=\"dataframe\">\n",
       "  <thead>\n",
       "    <tr style=\"text-align: right;\">\n",
       "      <th></th>\n",
       "      <th>country_code</th>\n",
       "      <th>area</th>\n",
       "      <th>year</th>\n",
       "      <th>series</th>\n",
       "      <th>value</th>\n",
       "    </tr>\n",
       "  </thead>\n",
       "  <tbody>\n",
       "    <tr>\n",
       "      <th>0</th>\n",
       "      <td>1</td>\n",
       "      <td>Total, all countries or areas</td>\n",
       "      <td>2010</td>\n",
       "      <td>Grants of patents (number)</td>\n",
       "      <td>914,200</td>\n",
       "    </tr>\n",
       "    <tr>\n",
       "      <th>1</th>\n",
       "      <td>1</td>\n",
       "      <td>Total, all countries or areas</td>\n",
       "      <td>2019</td>\n",
       "      <td>Grants of patents (number)</td>\n",
       "      <td>1,506,900</td>\n",
       "    </tr>\n",
       "    <tr>\n",
       "      <th>2</th>\n",
       "      <td>1</td>\n",
       "      <td>Total, all countries or areas</td>\n",
       "      <td>2020</td>\n",
       "      <td>Grants of patents (number)</td>\n",
       "      <td>1,596,500</td>\n",
       "    </tr>\n",
       "    <tr>\n",
       "      <th>3</th>\n",
       "      <td>1</td>\n",
       "      <td>Total, all countries or areas</td>\n",
       "      <td>2021</td>\n",
       "      <td>Grants of patents (number)</td>\n",
       "      <td>1,756,500</td>\n",
       "    </tr>\n",
       "    <tr>\n",
       "      <th>4</th>\n",
       "      <td>2</td>\n",
       "      <td>Africa</td>\n",
       "      <td>2005</td>\n",
       "      <td>Grants of patents (number)</td>\n",
       "      <td>4,200</td>\n",
       "    </tr>\n",
       "  </tbody>\n",
       "</table>\n",
       "</div>"
      ],
      "text/plain": [
       "   country_code                           area  year  \\\n",
       "0             1  Total, all countries or areas  2010   \n",
       "1             1  Total, all countries or areas  2019   \n",
       "2             1  Total, all countries or areas  2020   \n",
       "3             1  Total, all countries or areas  2021   \n",
       "4             2                         Africa  2005   \n",
       "\n",
       "                       series      value  \n",
       "0  Grants of patents (number)    914,200  \n",
       "1  Grants of patents (number)  1,506,900  \n",
       "2  Grants of patents (number)  1,596,500  \n",
       "3  Grants of patents (number)  1,756,500  \n",
       "4  Grants of patents (number)      4,200  "
      ]
     },
     "execution_count": 1,
     "metadata": {},
     "output_type": "execute_result"
    }
   ],
   "source": [
    "import pandas as pd\n",
    "import numpy as np\n",
    "\n",
    "df1 = pd.read_csv('../data/clean/clean_patents_df.csv')\n",
    "df1.head()"
   ]
  },
  {
   "cell_type": "code",
   "execution_count": 2,
   "id": "3e52c8d4-f241-4687-bb4c-2afa0355aafc",
   "metadata": {},
   "outputs": [
    {
     "data": {
      "text/plain": [
       "array(['Total, all countries or areas', 'Africa',\n",
       "       'Latin America & the Caribbean', 'Asia', 'Europe', 'Oceania',\n",
       "       'Albania', 'Algeria', 'Andorra', 'Angola', 'Argentina', 'Armenia',\n",
       "       'Australia', 'Austria', 'Azerbaijan', 'Bahamas', 'Bahrain',\n",
       "       'Bangladesh', 'Barbados', 'Belarus', 'Belgium', 'Belize', 'Benin',\n",
       "       'Bhutan', 'Bolivia (Plurin. State of)', 'Bosnia and Herzegovina',\n",
       "       'Botswana', 'Brazil', 'Brunei Darussalam', 'Bulgaria', 'Burundi',\n",
       "       'Cabo Verde', 'Cambodia', 'Cameroon', 'Canada',\n",
       "       'Central African Republic', 'Chile', 'China',\n",
       "       'China, Hong Kong SAR', 'China, Macao SAR', 'Colombia', 'Congo',\n",
       "       'Costa Rica', 'Côte d\\x92Ivoire', 'Croatia', 'Cuba', 'Cyprus',\n",
       "       'Czechia', \"Dem. People's Rep. Korea\", 'Dem. Rep. of the Congo',\n",
       "       'Denmark', 'Dominica', 'Dominican Republic', 'Ecuador', 'Egypt',\n",
       "       'El Salvador', 'Estonia', 'Eswatini', 'Ethiopia', 'Fiji',\n",
       "       'Finland', 'France', 'Gabon', 'Gambia', 'Georgia', 'Germany',\n",
       "       'Greece', 'Guatemala', 'Guinea-Bissau', 'Guyana', 'Haiti',\n",
       "       'Honduras', 'Hungary', 'Iceland', 'India', 'Indonesia',\n",
       "       'Iran (Islamic Republic of)', 'Iraq', 'Ireland', 'Israel', 'Italy',\n",
       "       'Jamaica', 'Japan', 'Jordan', 'Kazakhstan', 'Kenya', 'Kiribati',\n",
       "       'Kyrgyzstan', \"Lao People's Dem. Rep.\", 'Latvia', 'Lesotho',\n",
       "       'Libya', 'Lithuania', 'Luxembourg', 'Madagascar', 'Malawi',\n",
       "       'Malaysia', 'Mali', 'Malta', 'Mauritius', 'Mexico', 'Monaco',\n",
       "       'Mongolia', 'Montenegro', 'Morocco', 'Mozambique', 'Namibia',\n",
       "       'Nepal', 'Netherlands (Kingdom of the)', 'New Zealand',\n",
       "       'Nicaragua', 'Nigeria', 'North Macedonia', 'Norway', 'Oman',\n",
       "       'Pakistan', 'Panama', 'Papua New Guinea', 'Paraguay', 'Peru',\n",
       "       'Philippines', 'Poland', 'Portugal', 'Qatar', 'Republic of Korea',\n",
       "       'Republic of Moldova', 'Romania', 'Russian Federation', 'Rwanda',\n",
       "       'Saint Vincent & Grenadines', 'Samoa', 'San Marino',\n",
       "       'Sao Tome and Principe', 'Saudi Arabia', 'Senegal', 'Serbia',\n",
       "       'Seychelles', 'Sierra Leone', 'Singapore', 'Slovakia', 'Slovenia',\n",
       "       'Solomon Islands', 'Somalia', 'South Africa', 'Spain', 'Sri Lanka',\n",
       "       'Sudan', 'Sweden', 'Switzerland', 'Syrian Arab Republic',\n",
       "       'Tajikistan', 'Thailand', 'Togo', 'Trinidad and Tobago', 'Tunisia',\n",
       "       'Türkiye', 'Tuvalu', 'Uganda', 'Ukraine', 'United Arab Emirates',\n",
       "       'United Kingdom', 'United Rep. of Tanzania',\n",
       "       'United States of America', 'Uruguay', 'Uzbekistan',\n",
       "       'Venezuela (Boliv. Rep. of)', 'Viet Nam', 'Yemen', 'Zambia',\n",
       "       'Zimbabwe'], dtype=object)"
      ]
     },
     "execution_count": 2,
     "metadata": {},
     "output_type": "execute_result"
    }
   ],
   "source": [
    "df1['area'].unique()"
   ]
  },
  {
   "cell_type": "code",
   "execution_count": 3,
   "id": "e61e94b6-0d47-4c48-b473-69c9d798e3a3",
   "metadata": {},
   "outputs": [],
   "source": [
    "replace_dict_area = {\n",
    "    'Bolivia, Plurinational State of': 'Bolivia',\n",
    "    'Brunei Darussalam': 'Brunei',\n",
    "    'Congo, The Democratic Republic of the': 'Democratic Republic of the Congo', \n",
    "    \"Côte d'Ivoire\": 'Ivory Coast',\n",
    "    'Falkland Islands (Malvinas)': 'Falkland Islands',\n",
    "    'Iran (Islamic Republic of)': 'Iran',\n",
    "    \"Korea, Democratic People's Republic of\": 'North Korea',\n",
    "    'Korea, Republic of': 'South Korea',\n",
    "    \"Lao People's Democratic Republic\": 'Laos',\n",
    "    'Moldova, Republic of': 'Moldova',\n",
    "    'Netherlands Antilles [former]': 'Netherlands Antilles',\n",
    "    'Republic of Korea': 'South Korea',\n",
    "    'Republic of Moldova': 'Moldova',\n",
    "    'Russian Federation': 'Russia',\n",
    "    'Timor-Leste': 'East Timor',\n",
    "    'Türkiye': 'Turkey',\n",
    "    'Venezuela, Bolivarian Republic of': 'Venezuela'\n",
    "}\n",
    "df1['area'] = df1['area'].replace(replace_dict_area)"
   ]
  },
  {
   "cell_type": "code",
   "execution_count": 4,
   "id": "27bdfd4a-ebd9-40ff-8314-840835241f42",
   "metadata": {},
   "outputs": [],
   "source": [
    "replace_dict_df2 = {  \n",
    "    'China, Hong Kong Special Administrative Region': 'Hong Kong',\n",
    "    'China, Macao Special Administrative Region': 'Macao',\n",
    "    \"Côte d'Ivoire\": 'Ivory Coast',\n",
    "    'United Kingdom of Great Britain and Northern Ireland': 'United Kingdom',\n",
    "    'Venezuela (Bolivarian Republic of)': 'Venezuela'\n",
    "}\n",
    "df1['area'] = df1['area'].replace(replace_dict_df2)"
   ]
  },
  {
   "cell_type": "code",
   "execution_count": 5,
   "id": "d27c239e-2565-4b73-bc58-7a44192cf868",
   "metadata": {},
   "outputs": [],
   "source": [
    "replace_dict_df1 = {\n",
    "    'Bolivia (Plurin. State of)': 'Bolivia',\n",
    "    'China, Hong Kong SAR': 'Hong Kong',   \n",
    "    'China, Macao SAR': 'Macao',\n",
    "    'Côte d’Ivoire': 'Ivory Coast',\n",
    "    'Dem. Rep. of the Congo': 'Democratic Republic of the Congo',\n",
    "    'Latin America & the Caribbean': 'Latin America and the Caribbean',\n",
    "    'LDC§': 'Least Developed Countries',\n",
    "    'LLDCs': 'Landlocked Developing Countries',\n",
    "    \"Lao People's Dem. Rep.\": 'Laos',\n",
    "    'Netherlands (Kingdom of the)': 'Netherlands',\n",
    "    'SIDS': 'Small Island Developing States',\n",
    "    'State of Palestine': 'Palestine',\n",
    "    'Syrian Arab Republic': 'Syria',\n",
    "    'Total, all countries or areas': 'World',\n",
    "    'United Rep. of Tanzania': 'Tanzania',\n",
    "    'United States Virgin Islands': 'US Virgin Islands',\n",
    "    'Venezuela (Boliv. Rep. of)': 'Venezuela',\n",
    "    'Côte d\\x92Ivoire': 'Ivory Coast',\n",
    "    \"Dem. People's Rep. Korea\": 'North Korea',\n",
    "    'Saint Vincent & Grenadines': 'Saint Vincent and the Grenadines'\n",
    "}\n",
    "df1['area'] = df1['area'].replace(replace_dict_df1)"
   ]
  },
  {
   "cell_type": "code",
   "execution_count": 6,
   "id": "9ef73d0c-588d-4735-9cf0-4aafdd9a59d1",
   "metadata": {},
   "outputs": [
    {
     "data": {
      "text/plain": [
       "array(['World', 'Africa', 'Latin America and the Caribbean', 'Asia',\n",
       "       'Europe', 'Oceania', 'Albania', 'Algeria', 'Andorra', 'Angola',\n",
       "       'Argentina', 'Armenia', 'Australia', 'Austria', 'Azerbaijan',\n",
       "       'Bahamas', 'Bahrain', 'Bangladesh', 'Barbados', 'Belarus',\n",
       "       'Belgium', 'Belize', 'Benin', 'Bhutan', 'Bolivia',\n",
       "       'Bosnia and Herzegovina', 'Botswana', 'Brazil', 'Brunei',\n",
       "       'Bulgaria', 'Burundi', 'Cabo Verde', 'Cambodia', 'Cameroon',\n",
       "       'Canada', 'Central African Republic', 'Chile', 'China',\n",
       "       'Hong Kong', 'Macao', 'Colombia', 'Congo', 'Costa Rica',\n",
       "       'Ivory Coast', 'Croatia', 'Cuba', 'Cyprus', 'Czechia',\n",
       "       'North Korea', 'Democratic Republic of the Congo', 'Denmark',\n",
       "       'Dominica', 'Dominican Republic', 'Ecuador', 'Egypt',\n",
       "       'El Salvador', 'Estonia', 'Eswatini', 'Ethiopia', 'Fiji',\n",
       "       'Finland', 'France', 'Gabon', 'Gambia', 'Georgia', 'Germany',\n",
       "       'Greece', 'Guatemala', 'Guinea-Bissau', 'Guyana', 'Haiti',\n",
       "       'Honduras', 'Hungary', 'Iceland', 'India', 'Indonesia', 'Iran',\n",
       "       'Iraq', 'Ireland', 'Israel', 'Italy', 'Jamaica', 'Japan', 'Jordan',\n",
       "       'Kazakhstan', 'Kenya', 'Kiribati', 'Kyrgyzstan', 'Laos', 'Latvia',\n",
       "       'Lesotho', 'Libya', 'Lithuania', 'Luxembourg', 'Madagascar',\n",
       "       'Malawi', 'Malaysia', 'Mali', 'Malta', 'Mauritius', 'Mexico',\n",
       "       'Monaco', 'Mongolia', 'Montenegro', 'Morocco', 'Mozambique',\n",
       "       'Namibia', 'Nepal', 'Netherlands', 'New Zealand', 'Nicaragua',\n",
       "       'Nigeria', 'North Macedonia', 'Norway', 'Oman', 'Pakistan',\n",
       "       'Panama', 'Papua New Guinea', 'Paraguay', 'Peru', 'Philippines',\n",
       "       'Poland', 'Portugal', 'Qatar', 'South Korea', 'Moldova', 'Romania',\n",
       "       'Russia', 'Rwanda', 'Saint Vincent and the Grenadines', 'Samoa',\n",
       "       'San Marino', 'Sao Tome and Principe', 'Saudi Arabia', 'Senegal',\n",
       "       'Serbia', 'Seychelles', 'Sierra Leone', 'Singapore', 'Slovakia',\n",
       "       'Slovenia', 'Solomon Islands', 'Somalia', 'South Africa', 'Spain',\n",
       "       'Sri Lanka', 'Sudan', 'Sweden', 'Switzerland', 'Syria',\n",
       "       'Tajikistan', 'Thailand', 'Togo', 'Trinidad and Tobago', 'Tunisia',\n",
       "       'Turkey', 'Tuvalu', 'Uganda', 'Ukraine', 'United Arab Emirates',\n",
       "       'United Kingdom', 'Tanzania', 'United States of America',\n",
       "       'Uruguay', 'Uzbekistan', 'Venezuela', 'Viet Nam', 'Yemen',\n",
       "       'Zambia', 'Zimbabwe'], dtype=object)"
      ]
     },
     "execution_count": 6,
     "metadata": {},
     "output_type": "execute_result"
    }
   ],
   "source": [
    "df1['area'].unique()"
   ]
  },
  {
   "cell_type": "code",
   "execution_count": 7,
   "id": "353d1ff1-e6f1-4180-8c69-70c15735d76f",
   "metadata": {},
   "outputs": [],
   "source": [
    "df1.to_csv('clean_patents_df.csv', index=False)"
   ]
  }
 ],
 "metadata": {
  "kernelspec": {
   "display_name": "venv",
   "language": "python",
   "name": "venv"
  },
  "language_info": {
   "codemirror_mode": {
    "name": "ipython",
    "version": 3
   },
   "file_extension": ".py",
   "mimetype": "text/x-python",
   "name": "python",
   "nbconvert_exporter": "python",
   "pygments_lexer": "ipython3",
   "version": "3.12.2"
  }
 },
 "nbformat": 4,
 "nbformat_minor": 5
}
