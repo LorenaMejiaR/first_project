{
 "cells": [
  {
   "cell_type": "code",
   "execution_count": null,
   "id": "800c23ab-5d84-43c8-a137-de4c141a864d",
   "metadata": {},
   "outputs": [],
   "source": [
    "import pandas as pd\n",
    "import numpy as np\n",
    "\n",
    "df1 = pd.read_excel('../data/raw/SYB66.xlsx')"
   ]
  },
  {
   "cell_type": "markdown",
   "id": "49042ba4-369e-4443-9e7c-c6118533376b",
   "metadata": {},
   "source": [
    "### df1: clean column names, set them to lowercase, display unique values in area column"
   ]
  },
  {
   "cell_type": "code",
   "execution_count": null,
   "id": "e4edaf05-923c-4036-a7df-af4e889ed786",
   "metadata": {},
   "outputs": [],
   "source": [
    "df1.columns = df1.columns.str.lower().str.replace(' ', '_')\n",
    "unique_values = df1['area'].unique()\n",
    "print(unique_values)"
   ]
  },
  {
   "cell_type": "markdown",
   "id": "3b01a55d-ef51-44c6-95a7-b7cce0d8b9ff",
   "metadata": {},
   "source": [
    "### df2: clean column names, set them to lowercase, display unique values in area column\n",
    "source: https://data.uis.unesco.org/index.aspx?queryid=74\n"
   ]
  },
  {
   "cell_type": "code",
   "execution_count": null,
   "id": "cc7e9504-495d-473e-9139-975a28152fe2",
   "metadata": {},
   "outputs": [],
   "source": [
    "df2 = pd.read_csv('../data/raw/SCN_DS_04112024092440372.csv')\n",
    "df2.columns = df2.columns.str.lower().str.replace(' ', '_')\n",
    "display(df2)\n",
    "\n",
    "unique_values = df2['country'].unique()\n",
    "print(unique_values)"
   ]
  },
  {
   "cell_type": "markdown",
   "id": "6a7f92cf-1084-4825-8219-1f7c09c06982",
   "metadata": {},
   "source": [
    "### Remove whitespace from all values in both dataframes"
   ]
  },
  {
   "cell_type": "code",
   "execution_count": null,
   "id": "6586097a-4aef-4862-8c32-bdfdf0ce4eb6",
   "metadata": {},
   "outputs": [],
   "source": [
    "def strip_whitespace(df):\n",
    "    for col in df.select_dtypes(include=['object']):\n",
    "        if pd.api.types.is_string_dtype(df[col]):\n",
    "            df[col] = df[col].str.strip()\n",
    "    return df\n",
    "\n",
    "# Strip whitespace from both DataFrames\n",
    "df1 = strip_whitespace(df1)\n",
    "df2 = strip_whitespace(df2)"
   ]
  },
  {
   "cell_type": "markdown",
   "id": "b7342432-3fcd-4040-8970-27413a3a84bb",
   "metadata": {},
   "source": [
    "### Rename unique values in both dataframes"
   ]
  },
  {
   "cell_type": "code",
   "execution_count": null,
   "id": "5f7e780a-8a88-4837-a781-30e55a30ba79",
   "metadata": {},
   "outputs": [],
   "source": [
    "replace_dict_dfs = {\n",
    "    'Brunei Darussalam': 'Brunei',\n",
    "    'Iran (Islamic Republic of)': 'Iran',\n",
    "    'Republic of Korea': 'South Korea',\n",
    "    'Republic of Moldova': 'Moldova',\n",
    "    'Russian Federation': 'Russia',\n",
    "    'Türkiye': 'Turkey'\n",
    "}\n",
    "\n",
    "df1['area'] = df1['area'].replace(replace_dict_dfs)\n",
    "df2['country'] = df2['country'].replace(replace_dict_dfs)"
   ]
  },
  {
   "cell_type": "markdown",
   "id": "b763e96b-f84b-4824-9095-bc6f4df4d6f8",
   "metadata": {},
   "source": [
    "### Rename unique values in df1"
   ]
  },
  {
   "cell_type": "code",
   "execution_count": null,
   "id": "b8bb00d4-26e0-4530-82f4-c4a5f700a47d",
   "metadata": {},
   "outputs": [],
   "source": [
    "replace_dict_df1 = {\n",
    "    'Bolivia (Plurin. State of)': 'Bolivia',\n",
    "    'China, Hong Kong SAR': 'Hong Kong',   \n",
    "    'China, Macao SAR': 'Macao',\n",
    "    'Côte d’Ivoire': 'Ivory Coast',\n",
    "    'Dem. Rep. of the Congo': 'Democratic Republic of the Congo',\n",
    "    'Latin America & the Caribbean': 'Latin America and the Caribbean',\n",
    "    'LDC§': 'Least Developed Countries',\n",
    "    'LLDCs': 'Landlocked Developing Countries',\n",
    "    \"Lao People's Dem. Rep.\": 'Laos',\n",
    "    'Netherlands (Kingdom of the)': 'Netherlands',\n",
    "    'SIDS': 'Small Island Developing States',\n",
    "    'State of Palestine': 'Palestine',\n",
    "    'Syrian Arab Republic': 'Syria',\n",
    "    'Total, all countries or areas': 'World',\n",
    "    'United Rep. of Tanzania': 'Tanzania',\n",
    "    'United States Virgin Islands': 'US Virgin Islands',\n",
    "    'Venezuela (Boliv. Rep. of)': 'Venezuela'\n",
    "}\n",
    "\n",
    "df1['area'] = df1['area'].replace(replace_dict_df1)"
   ]
  },
  {
   "cell_type": "markdown",
   "id": "c78766e0-165e-448f-a3d7-caea88d0658a",
   "metadata": {},
   "source": [
    "### Rename unique values in df2"
   ]
  },
  {
   "cell_type": "code",
   "execution_count": null,
   "id": "2edd5fd7-ae08-4d71-a0f0-f678c3a21e70",
   "metadata": {},
   "outputs": [],
   "source": [
    "replace_dict_df2 = {  \n",
    "    'China, Hong Kong Special Administrative Region': 'Hong Kong',\n",
    "    'China, Macao Special Administrative Region': 'Macao',\n",
    "    \"Côte d'Ivoire\": 'Ivory Coast',\n",
    "    'United Kingdom of Great Britain and Northern Ireland': 'United Kingdom',\n",
    "    'Venezuela (Bolivarian Republic of)': 'Venezuela'\n",
    "}\n",
    "\n",
    "df2['country'] = df2['country'].replace(replace_dict_df2)"
   ]
  },
  {
   "cell_type": "markdown",
   "id": "f8a65521-4502-4cd3-b6a7-f49ceb047177",
   "metadata": {},
   "source": [
    "### Check and compare unique values"
   ]
  },
  {
   "cell_type": "code",
   "execution_count": null,
   "id": "30bc3f0b-bf79-459e-8df1-66c0132b1cf2",
   "metadata": {},
   "outputs": [],
   "source": [
    "unique_df1 = df1['area'].unique()\n",
    "unique_df2 = df2['country'].unique()\n",
    "\n",
    "set_df1 = set(unique_df1)\n",
    "set_df2 = set(unique_df2)\n",
    "\n",
    "matches = set_df1.intersection(set_df2)\n",
    "\n",
    "differences_df1 = set_df1.difference(set_df2)\n",
    "\n",
    "differences_df2 = set_df2.difference(set_df1)\n",
    "\n",
    "matches_list = sorted(list(matches))\n",
    "differences_df1_list = sorted(list(differences_df1))\n",
    "differences_df2_list = sorted(list(differences_df2))\n",
    "\n",
    "print(\"Unique Matches:\\n\")\n",
    "print(matches_list)\n",
    "\n",
    "print(\"\\nUnique values in df1, not in df2:\\n\")\n",
    "print(differences_df1_list)\n",
    "\n",
    "print(\"\\nUnique values in df2, not in df1:\\n\")\n",
    "print(differences_df2_list)"
   ]
  },
  {
   "cell_type": "markdown",
   "id": "546bbdde-e06c-4d42-95e9-84a56dd46a29",
   "metadata": {},
   "source": [
    "### Column parsing before merging\n",
    "- drop 'source' and 'footnotes' columns\n",
    "- rename columns to help merge\n",
    "- remove duplicates"
   ]
  },
  {
   "cell_type": "code",
   "execution_count": null,
   "id": "7ea1bf77-4fa1-463f-b0b9-4b18ef6851d5",
   "metadata": {},
   "outputs": [],
   "source": [
    "df1 = df1.drop(columns=['source', 'footnotes'])\n",
    "df2.rename(columns={'country': 'area'}, inplace=True)\n",
    "df2.rename(columns={'time': 'year'}, inplace=True)\n",
    "df2 = df2.loc[:, ~df2.columns.duplicated()]"
   ]
  },
  {
   "cell_type": "code",
   "execution_count": null,
   "id": "ee8dce4c-1799-46f6-970e-eddbbebb9a84",
   "metadata": {},
   "outputs": [],
   "source": [
    "# print original dfs\n",
    "print(\"df1:\\n\")\n",
    "display(df1)\n",
    "\n",
    "print(\"\\ndf2:\\n\")\n",
    "display(df2)\n",
    "\n",
    "# merge vertically\n",
    "merged_df = pd.concat([df1, df2], ignore_index=True)\n",
    "\n",
    "print(\"\\nmerged dataframe:\\n\")\n",
    "display(merged_df)"
   ]
  }
 ],
 "metadata": {
  "kernelspec": {
   "display_name": "venv",
   "language": "python",
   "name": "venv"
  },
  "language_info": {
   "codemirror_mode": {
    "name": "ipython",
    "version": 3
   },
   "file_extension": ".py",
   "mimetype": "text/x-python",
   "name": "python",
   "nbconvert_exporter": "python",
   "pygments_lexer": "ipython3",
   "version": "3.12.2"
  }
 },
 "nbformat": 4,
 "nbformat_minor": 5
}
