{
 "cells": [
  {
   "cell_type": "code",
   "execution_count": null,
   "id": "30cb3a36-b4dd-440f-ab3c-cba4993714f3",
   "metadata": {},
   "outputs": [],
   "source": [
    "import pandas as pd\n",
    "import numpy as np\n",
    "import seaborn as sns"
   ]
  },
  {
   "cell_type": "code",
   "execution_count": null,
   "id": "fea083fc-b554-426a-b6ae-3b2493156cf7",
   "metadata": {},
   "outputs": [],
   "source": [
    "gdp_df = pd.read_csv('../data/raw/GDP_dataset.csv')\n",
    "gdp_df.columns = gdp_df.columns.str.lower().str.replace(' ', '_')\n",
    "gdp_df"
   ]
  },
  {
   "cell_type": "code",
   "execution_count": null,
   "id": "a28036c7-044b-4fd0-825b-386e98a88108",
   "metadata": {},
   "outputs": [],
   "source": [
    "gdp_df.drop(columns= ['indicator_code', 'country_code', 'indicator_name'])"
   ]
  },
  {
   "cell_type": "code",
   "execution_count": null,
   "id": "91d2feb3-0b88-4784-9e74-226315832ab0",
   "metadata": {},
   "outputs": [],
   "source": [
    "# Identifying year columns by checking if they are digits\n",
    "year_columns = [col for col in gdp_df.columns if col.isdigit()]\n",
    "\n",
    "# Melting the DataFrame\n",
    "gdp_df_melted = gdp_df.melt(id_vars=['country_name'], var_name='time', value_name='gdp')\n",
    "\n",
    "# Converting the 'time' column to integer\n",
    "gdp_df_melted['time'] = pd.to_numeric(gdp_df_melted['time'], errors='coerce')\n",
    "\n",
    "# Filtering the DataFrame to keep only rows where 'time' is 2000 or greater, since the rest of the \n",
    "gdp_df_melted = gdp_df_melted[gdp_df_melted['time'] >= 2000]\n",
    "\n",
    "# Reseting the index for a cleaner look\n",
    "gdp_df_melted.reset_index(drop=True, inplace=True)\n",
    "\n",
    "gdp_df_melted"
   ]
  },
  {
   "cell_type": "code",
   "execution_count": null,
   "id": "ad69d5c2-819b-4b72-b4cc-031790fd81ce",
   "metadata": {},
   "outputs": [],
   "source": [
    "gdp_df_melted['time'] = gdp_df_melted['time'].astype('int')\n",
    "print(gdp_df_melted['time'].dtype)"
   ]
  },
  {
   "cell_type": "code",
   "execution_count": null,
   "id": "75054070-cf04-47ec-a0b8-0695aa66e4af",
   "metadata": {},
   "outputs": [],
   "source": [
    "print(gdp_df_melted['gdp'].dtype)\n",
    "gdp_df_melted = gdp_df_melted.dropna(subset=['gdp'])\n",
    "\n",
    "# Using .loc to avoid a warning\n",
    "gdp_df_melted.loc[:, 'gdp'] = gdp_df_melted['gdp'].astype('int')\n",
    "gdp_df_melted.loc[:, 'gdp'] = pd.to_numeric(gdp_df_melted['gdp'], errors='coerce')\n",
    "\n",
    "gdp_df_melted"
   ]
  },
  {
   "cell_type": "code",
   "execution_count": null,
   "id": "1f4857da-ac36-4081-a73e-102c08fbcaab",
   "metadata": {},
   "outputs": [],
   "source": [
    "gdp_df = gdp_df_melted\n",
    "gdp_df = gdp_df.sort_values(by=['country_name', 'time']).reset_index(drop=True)\n",
    "gdp_df.rename(columns={'country_name': 'area'})\n",
    "gdp_df"
   ]
  },
  {
   "cell_type": "code",
   "execution_count": null,
   "id": "fb8f387a-04e4-493c-a751-35032fac76f4",
   "metadata": {},
   "outputs": [],
   "source": [
    "gdp_df.to_csv('gdp_df.csv', index=False)"
   ]
  }
 ],
 "metadata": {
  "kernelspec": {
   "display_name": "venv",
   "language": "python",
   "name": "venv"
  },
  "language_info": {
   "codemirror_mode": {
    "name": "ipython",
    "version": 3
   },
   "file_extension": ".py",
   "mimetype": "text/x-python",
   "name": "python",
   "nbconvert_exporter": "python",
   "pygments_lexer": "ipython3",
   "version": "3.11.7"
  }
 },
 "nbformat": 4,
 "nbformat_minor": 5
}
