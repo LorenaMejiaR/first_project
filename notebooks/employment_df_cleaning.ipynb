{
 "cells": [
  {
   "cell_type": "markdown",
   "id": "a3477ba2-6c1e-42b2-b6d4-26d1fb639d12",
   "metadata": {},
   "source": [
    "### Employment\n",
    "\n",
    "To-do's:\n",
    "- Rename columns\n",
    "- Drop first row\n",
    "- Drop last two columns\n",
    "- Check if the totals in Labor force participation and Unemployment rate are adding up male and female values.\n",
    "- If so, drop the female + male rows.\n",
    "- Check empty values.\n",
    "- Reset index."
   ]
  },
  {
   "cell_type": "code",
   "execution_count": null,
   "id": "af9e66d0-cdb4-4564-8667-0eb57d57bea5",
   "metadata": {},
   "outputs": [],
   "source": [
    "import pandas as pd\n",
    "import numpy as np\n",
    "import pycountry\n",
    "\n",
    "employment_df = pd.read_csv('../data/raw/SYB66_329_202310_Labour_unem.csv', encoding='iso-8859-1')\n",
    "display(employment_df)"
   ]
  },
  {
   "cell_type": "code",
   "execution_count": null,
   "id": "77fed45b-ce1a-4617-a9e2-e397b91f54e9",
   "metadata": {},
   "outputs": [],
   "source": [
    "print(employment_df.columns)"
   ]
  },
  {
   "cell_type": "markdown",
   "id": "8bac9b7f-e22c-4a52-bbd5-8e9895f6ba19",
   "metadata": {},
   "source": [
    "### Rows and Columns\n",
    "- Drop row with index 0\n",
    "- Drop last two columns\n",
    "- Rename columns"
   ]
  },
  {
   "cell_type": "code",
   "execution_count": null,
   "id": "cbb96a19-5891-499b-a0e0-e5a30d552b2e",
   "metadata": {},
   "outputs": [],
   "source": [
    "employment_df = employment_df.drop(0, errors='ignore')\n",
    "employment_df = employment_df.drop(['Unnamed: 5', 'Unnamed: 6'], axis=1)\n",
    "display(employment_df)\n",
    "print(employment_df.index)"
   ]
  },
  {
   "cell_type": "markdown",
   "id": "de0f6b53-cf02-4fc8-9069-ec8db2a3a058",
   "metadata": {},
   "source": [
    "### Rename columns"
   ]
  },
  {
   "cell_type": "code",
   "execution_count": null,
   "id": "c01bffcf-96de-4912-9863-6e151c444f9a",
   "metadata": {},
   "outputs": [],
   "source": [
    "employment_df = employment_df.rename(columns= {\n",
    "    'T17': 'country_code',\n",
    "    'Labour force participation and unemployment': 'participation_area',\n",
    "    'Unnamed: 2': 'year',\n",
    "    'Unnamed: 3': 'statistic_type',\n",
    "    'Unnamed: 4': 'statistic_value',\n",
    "})"
   ]
  },
  {
   "cell_type": "markdown",
   "id": "f9fe5cc1-a4fd-4cb0-b7a4-6498ca28aeff",
   "metadata": {},
   "source": [
    "### Remove rows for gender specific statistic (the total equivalent for each year sums it up)"
   ]
  },
  {
   "cell_type": "code",
   "execution_count": null,
   "id": "92794cea-f692-4578-9eae-64811da3372b",
   "metadata": {},
   "outputs": [],
   "source": [
    "rows_to_drop = ['Labour force participation - Female', 'Labour force participation - Male', 'Unemployment rate - Female', 'Unemployment rate - Male']\n",
    "employment_df = employment_df[~employment_df['statistic_type'].isin(rows_to_drop)]"
   ]
  },
  {
   "cell_type": "markdown",
   "id": "b6ad0e05-ead2-4706-a968-760a23751a1c",
   "metadata": {},
   "source": [
    "### Country codes\n",
    "- Find unique values\n",
    "- Use `pycountry` to find the equivalent names\n",
    "- Add 'area' column with the names\n",
    "- Identify the ones with 'Unknown' value comparing them with the 'participation_area'\n",
    "- Create replacement dictionary, implement it"
   ]
  },
  {
   "cell_type": "code",
   "execution_count": null,
   "id": "c15bdf51-b008-497d-b0a8-cec847edc5f9",
   "metadata": {},
   "outputs": [],
   "source": [
    "print('\\nUnique values in participation_area column:\\n')\n",
    "employment_df['participation_area'].unique()"
   ]
  },
  {
   "cell_type": "markdown",
   "id": "51d25ae7-0099-43e3-a948-fc0ef8421588",
   "metadata": {},
   "source": [
    "### Parse country codes, check for the area names with `pycountry`, update the dataframe"
   ]
  },
  {
   "cell_type": "code",
   "execution_count": null,
   "id": "e072316d-0574-45f5-a23a-79bdb4c35e8b",
   "metadata": {},
   "outputs": [],
   "source": [
    "def transform_country_codes(code):\n",
    "    if len(code) ==1:\n",
    "        return '00' + code\n",
    "    elif len(code) == 2:\n",
    "        return '0' + code\n",
    "    return code\n",
    "\n",
    "def get_country_name(country_code):\n",
    "    try:\n",
    "        country = pycountry.countries.get(numeric=country_code) # check for country code\n",
    "        if not country:\n",
    "            country = pycountry.countries.get(alpha_2=country_code)\n",
    "        return country.name if country else 'Unknown'\n",
    "    except KeyError:\n",
    "        return 'Unknown'\n",
    "\n",
    "# implement logic to the actual dataset\n",
    "employment_df['country_code'] = employment_df['country_code'].apply(transform_country_codes)\n",
    "employment_df['area'] = employment_df['country_code'].apply(get_country_name)\n",
    "\n",
    "employment_df.head(100)"
   ]
  },
  {
   "cell_type": "markdown",
   "id": "89d02b97-cd3c-4f23-af8f-6ee7728d42bc",
   "metadata": {},
   "source": [
    "### Replace 'Unknown' values according to the dictionary"
   ]
  },
  {
   "cell_type": "code",
   "execution_count": null,
   "id": "9788ad5a-7221-4cce-ac97-149142d0d04f",
   "metadata": {},
   "outputs": [],
   "source": [
    "replace_dict = {\n",
    "    '001': 'World',\n",
    "    '002': 'Africa',\n",
    "    '005': 'South America',\n",
    "    '009': 'Oceania',\n",
    "    '011': 'Western Africa',\n",
    "    '013': 'Central America',\n",
    "    '014': 'Eastern Africa',\n",
    "    '015': 'Northern Africa',\n",
    "    '017': 'Middle Africa',\n",
    "    '018': 'Southern Africa',\n",
    "    '019': 'Americas',\n",
    "    '021': 'Northern America',\n",
    "    '029': 'Caribbean',\n",
    "    '030': 'Eastern Asia',\n",
    "    '034': 'Southern Asia',\n",
    "    '035': 'South-eastern Asia',\n",
    "    '039': 'Southern Europe',\n",
    "    '097': 'European Union',\n",
    "    '134': 'Caucasus',\n",
    "    '143': 'Central Asia',\n",
    "    '145': 'Western Asia',\n",
    "    '151': 'Eastern Europe',\n",
    "    '154': 'Northern Europe',\n",
    "    '155': 'Western Europe',\n",
    "    '202': 'Sub-Saharan Africa',\n",
    "    '412': 'Kosovo',\n",
    "    '419': 'Latin America and the Caribbean',\n",
    "    '530': 'Netherlands Antilles [former]',\n",
    "    '830': 'Channel Islands'\n",
    "}\n",
    "\n",
    "employment_df.loc[:,'area'] = employment_df['country_code'].map(replace_dict).fillna(employment_df['area'])\n",
    "# display(employment_df)"
   ]
  },
  {
   "cell_type": "code",
   "execution_count": null,
   "id": "9eff98e1-6166-4bbd-ad75-337b8971f594",
   "metadata": {},
   "outputs": [],
   "source": [
    "print('\\nUnique values in area column:\\n')\n",
    "print(employment_df['area'].unique())"
   ]
  },
  {
   "cell_type": "markdown",
   "id": "fe43ef77-e4d1-40c1-8b38-5b6e5b936378",
   "metadata": {},
   "source": [
    "### Convert the following values in 'area' for better readability and standardization purposes"
   ]
  },
  {
   "cell_type": "code",
   "execution_count": null,
   "id": "daa83288-3885-4322-91b3-e34ea9111e4f",
   "metadata": {},
   "outputs": [],
   "source": [
    "replace_dict_area = {\n",
    "    'Bolivia, Plurinational State of': 'Bolivia',\n",
    "    'Brunei Darussalam': 'Brunei',\n",
    "    'Congo, The Democratic Republic of the': 'Democratic Republic of the Congo', \n",
    "    \"Côte d'Ivoire\": 'Ivory Coast',\n",
    "    'Falkland Islands (Malvinas)': 'Falkland Islands',\n",
    "    'Iran (Islamic Republic of)': 'Iran',\n",
    "    \"Korea, Democratic People's Republic of\": 'North Korea',\n",
    "    'Korea, Republic of': 'South Korea',\n",
    "    \"Lao People's Democratic Republic\": 'Laos',\n",
    "    'Moldova, Republic of': 'Moldova',\n",
    "    'Netherlands Antilles [former]': 'Netherlands Antilles',\n",
    "    'Republic of Korea': 'South Korea',\n",
    "    'Republic of Moldova': 'Moldova',\n",
    "    'Russian Federation': 'Russia',\n",
    "    'Timor-Leste': 'East Timor',\n",
    "    'Türkiye': 'Turkey',\n",
    "    'Venezuela, Bolivarian Republic of': 'Venezuela'\n",
    "}\n",
    "\n",
    "employment_df['area'] = employment_df['area'].replace(replace_dict_area)"
   ]
  },
  {
   "cell_type": "code",
   "execution_count": null,
   "id": "a1008da1-56b8-473e-b775-c4f9e97cfa8a",
   "metadata": {},
   "outputs": [],
   "source": [
    "replace_dict_statistic = {\n",
    "    'Labour force participation - Total': 'Labour force participation',\n",
    "    'Unemployment rate - Total': 'Unemployment rate'\n",
    "}\n",
    "\n",
    "employment_df['statistic_type'] = employment_df['statistic_type'].replace(replace_dict_statistic)"
   ]
  },
  {
   "cell_type": "markdown",
   "id": "597d7554-2676-4399-a613-721b358cd297",
   "metadata": {},
   "source": [
    "### Last but not least\n",
    "- Drop 'participation_area' column\n",
    "- Reorder columns\n",
    "- Reset index"
   ]
  },
  {
   "cell_type": "code",
   "execution_count": null,
   "id": "6566cf62-98a2-45a3-8720-8309e9e49f7b",
   "metadata": {},
   "outputs": [],
   "source": [
    "employment_df = employment_df.drop(['participation_area'], axis=1)\n",
    "\n",
    "custom_column_order = ['country_code', 'area', 'year', 'statistic_type', 'statistic_value']\n",
    "employment_df = employment_df[custom_column_order]\n",
    "\n",
    "employment_df.reset_index(drop=True, inplace=True)\n",
    "display(employment_df)"
   ]
  }
 ],
 "metadata": {
  "kernelspec": {
   "display_name": "venv",
   "language": "python",
   "name": "venv"
  },
  "language_info": {
   "codemirror_mode": {
    "name": "ipython",
    "version": 3
   },
   "file_extension": ".py",
   "mimetype": "text/x-python",
   "name": "python",
   "nbconvert_exporter": "python",
   "pygments_lexer": "ipython3",
   "version": "3.12.2"
  }
 },
 "nbformat": 4,
 "nbformat_minor": 5
}
