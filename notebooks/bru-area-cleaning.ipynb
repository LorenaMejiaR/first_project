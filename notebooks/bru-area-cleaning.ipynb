{
 "cells": [
  {
   "cell_type": "code",
   "execution_count": null,
   "id": "56e12d17-207c-49cd-83bd-5d595a253062",
   "metadata": {},
   "outputs": [],
   "source": [
    "import pandas as pd\n",
    "import numpy as np\n",
    "\n",
    "df1 = pd.read_csv('../data/clean/clean_gdp_df.csv')\n",
    "df1.head()\n",
    "df1"
   ]
  },
  {
   "cell_type": "code",
   "execution_count": null,
   "id": "3e52c8d4-f241-4687-bb4c-2afa0355aafc",
   "metadata": {},
   "outputs": [],
   "source": [
    "df1.rename(columns={'country_name': 'area'}, inplace=True)\n",
    "df1['area'].unique()"
   ]
  },
  {
   "cell_type": "code",
   "execution_count": null,
   "id": "e61e94b6-0d47-4c48-b473-69c9d798e3a3",
   "metadata": {},
   "outputs": [],
   "source": [
    "replace_dict_area = {\n",
    "    'Africa Western and Central': 'Western and Central Africa',\n",
    "    'Bahamas, The': 'The Bahamas',\n",
    "    'Bolivia (Plurin. State of)': 'Bolivia',\n",
    "    'Bolivia, Plurinational State of': 'Bolivia',\n",
    "    'Brunei Darussalam': 'Brunei',\n",
    "    'China, Hong Kong SAR': 'Hong Kong',\n",
    "    'China, Hong Kong Special Administrative Region': 'Hong Kong',\n",
    "    'China, Macao SAR': 'Macao',\n",
    "    'China, Macao Special Administrative Region': 'Macao',\n",
    "    'Congo, Dem. Rep.': 'Democratic Republic of the Congo',\n",
    "    'Congo, Rep.': 'Democratic Republic of the Congo',\n",
    "    'Congo, The Democratic Republic of the': 'Democratic Republic of the Congo',\n",
    "    \"Cote d'Ivoire\": 'Ivory Coast',\n",
    "    \"Côte d'Ivoire\": 'Ivory Coast',\n",
    "    'Côte d\\x92Ivoire': 'Ivory Coast',\n",
    "    'Côte d’Ivoire': 'Ivory Coast',\n",
    "    \"Dem. People's Rep. Korea\": 'North Korea',\n",
    "    'Dem. Rep. of the Congo': 'Democratic Republic of the Congo',\n",
    "    'Egypt, Arab Rep.': 'Egypt',\n",
    "    'Euro area': '',\n",
    "    'Europe & Central Asia': 'Europe and Central Asia',\n",
    "    'Falkland Islands (Malvinas)': 'Falkland Islands',\n",
    "    'Gambia, The': 'Gambia',\n",
    "    'Hong Kong SAR, China': 'Hong Kong',\n",
    "    'Iran (Islamic Republic of)': 'Iran',\n",
    "    'Iran, Islamic Republic of': 'Iran',\n",
    "    'Iran, Islamic Rep.': 'Iran',\n",
    "    \"Korea, Democratic People's Republic of\": 'North Korea',\n",
    "    'Korea, Rep.': 'South Korea',\n",
    "    'Korea, Republic of': 'South Korea',\n",
    "    'Kyrgyz Republic': 'Kyrgyztan',\n",
    "    'LDC§': 'Least Developed Countries',\n",
    "    'LLDCs': 'Landlocked Developing Countries',\n",
    "    'Lao PDR': 'Laos',\n",
    "    \"Lao People's Dem. Rep.\": 'Laos',\n",
    "    \"Lao People's Democratic Republic\": 'Laos',\n",
    "    'Latin America & Caribbean': 'Latin America and the Caribbean',\n",
    "    'Low & middle income': 'Low and middle income',\n",
    "    'Macao SAR, China': 'Macao',\n",
    "    'Micronesia, Fed. Sts.': 'Micronesia',\n",
    "    'Micronesia (Fed. States of)': 'Micronesia',\n",
    "    'Middle East & North Africa': 'Middle East and North Africa',\n",
    "    'Moldova, Republic of': 'Moldova',\n",
    "    'Netherlands (Kingdom of the)': 'Netherlands',\n",
    "    'Netherlands Antilles [former]': 'Netherlands Antilles',\n",
    "    'Palestine, State of': 'Palestine',\n",
    "    'Republic of Korea': 'South Korea',\n",
    "    'Republic of Moldova': 'Moldova',\n",
    "    'Russian Federation': 'Russia',\n",
    "    'SIDS': 'Small Island Developing States',\n",
    "    'Saint Vincent & Grenadines': 'Saint Vincent and the Grenadines',\n",
    "    'St. Kitts and Nevis': 'Saint Kitts and Nevis',\n",
    "    'St. Lucia': 'Saint Lucia',\n",
    "    'St. Martin (French part)': '',\n",
    "    'St. Vincent and the Grenadines': 'Saint Vincent and the Grenadines',\n",
    "    'State of Palestine': 'Palestine',\n",
    "    'Syrian Arab Republic': 'Syria',\n",
    "    'Tanzania, United Republic of': 'Tanzania',\n",
    "    'The Democratic Republic of the Congo': 'Democratic Republic of the Congo',\n",
    "    'Timor-Leste': 'East Timor',\n",
    "    'Total, all countries or areas': 'World',\n",
    "    'Türkiye': 'Turkey',\n",
    "    'United Kingdom of Great Britain and Northern Ireland': 'United Kingdom',\n",
    "    'United Rep. of Tanzania': 'Tanzania',\n",
    "    'United States Virgin Islands': 'US Virgin Islands',\n",
    "    'Venezuela (Boliv. Rep. of)': 'Venezuela',\n",
    "    'Venezuela (Bolivarian Republic of)': 'Venezuela',\n",
    "    'Venezuela, Bolivarian Republic of': 'Venezuela',\n",
    "    'Venezuela, RB': 'Venezuela',\n",
    "    'Virgin Islands, U.S.': 'US Virgin Islands',\n",
    "    'Virgin Islands (U.S.)': 'US Virgin Islands',\n",
    "    'Yemen, Rep.': 'Yemen'\n",
    "}\n",
    "\n",
    "df1['area'] = df1['area'].replace(replace_dict_area)"
   ]
  },
  {
   "cell_type": "code",
   "execution_count": null,
   "id": "9ef73d0c-588d-4735-9cf0-4aafdd9a59d1",
   "metadata": {},
   "outputs": [],
   "source": [
    "unique_values = df1['area'].unique()\n",
    "for unique in unique_values:\n",
    "    print(f'{unique}')"
   ]
  },
  {
   "cell_type": "code",
   "execution_count": null,
   "id": "abf093d2-421b-4762-a49a-6a1eb8ca5b8b",
   "metadata": {},
   "outputs": [],
   "source": [
    "remove_dict_area = [\n",
    "    'Caribbean small states',\n",
    "    'Early-demographic dividend',\n",
    "    'East Asia & Pacific',\n",
    "    'East Asia & Pacific (IDA & IBRD countries)',\n",
    "    'East Asia & Pacific (excluding high income)',\n",
    "    'Europe & Central Asia (IDA & IBRD countries)',\n",
    "    'Europe & Central Asia (excluding high income)',\n",
    "    'Fragile and conflict affected situations',\n",
    "    'Heavily indebted poor countries (HIPC)',\n",
    "    'High income',\n",
    "    'IBRD only',\n",
    "    'IDA & IBRD total',\n",
    "    'IDA blend',\n",
    "    'IDA only',\n",
    "    'IDA total',\n",
    "    'Latin America & Caribbean (excluding high income)',\n",
    "    'Latin America & the Caribbean (IDA & IBRD countries)',\n",
    "    'Landlocked Developing Countries',\n",
    "    'Late-demographic dividend',\n",
    "    'Least Developed Countries',\n",
    "    'Least developed countries: UN classification',\n",
    "    'Low income',\n",
    "    'Lower middle income',\n",
    "    'Low and middle income',\n",
    "    'Middle East & North Africa (IDA & IBRD countries)',\n",
    "    'Middle East & North Africa (excluding high income)',\n",
    "    'Middle East and North Africa',\n",
    "    'Middle income',\n",
    "    'OECD members',\n",
    "    'Other small states',\n",
    "    'Pacific island small states',\n",
    "    'Post-demographic dividend',\n",
    "    'Pre-demographic dividend',\n",
    "    'Small Island Developing States',\n",
    "    'Small states',\n",
    "    'South Asia (IDA & IBRD)',\n",
    "    'Sub-Saharan Africa (IDA & IBRD countries)',\n",
    "    'Sub-Saharan Africa (excluding high income)',\n",
    "    'Upper middle income',\n",
    "    'West Bank and Gaza',\n",
    "]\n",
    "\n",
    "df1 = df1[~df1['area'].isin(remove_dict_area)]"
   ]
  },
  {
   "cell_type": "code",
   "execution_count": null,
   "id": "550e9c10-42af-41b8-acc6-d5e4fe47f491",
   "metadata": {},
   "outputs": [],
   "source": [
    "unique_values = df1['area'].unique()\n",
    "for unique in unique_values:\n",
    "    print(f'{unique}')"
   ]
  },
  {
   "cell_type": "code",
   "execution_count": null,
   "id": "c5f1d978-de4e-4f7b-9043-58496fc46d67",
   "metadata": {},
   "outputs": [],
   "source": [
    "df1"
   ]
  },
  {
   "cell_type": "markdown",
   "id": "119226f4-4c79-44bf-97f8-af8c58669513",
   "metadata": {},
   "source": [
    "### Export to `.csv`"
   ]
  },
  {
   "cell_type": "code",
   "execution_count": null,
   "id": "353d1ff1-e6f1-4180-8c69-70c15735d76f",
   "metadata": {},
   "outputs": [],
   "source": [
    "# df1.to_csv('hdi_clean.csv', index=False)\n",
    "# df1.to_csv('clean_gdp_df.csv', index=False)\n",
    "# df1.to_csv('educ_filtered.csv', index=False)\n",
    "# df1.to_csv('clean_RD_df.csv', index=False)\n",
    "# df1.to_csv('employment_df.csv', index=False)\n",
    "# df1.to_csv('clean_gdp_df.csv', index=False)"
   ]
  },
  {
   "cell_type": "markdown",
   "id": "59779182-f3a2-4aea-8725-85c00c322d79",
   "metadata": {},
   "source": [
    "### Merge reference dataframe with gdp dataframe"
   ]
  },
  {
   "cell_type": "code",
   "execution_count": null,
   "id": "363c79c7-d2ed-476b-8e8d-4241952690e8",
   "metadata": {},
   "outputs": [],
   "source": [
    "clean_gdp_df = pd.read_csv('./clean_gdp_df.csv')\n",
    "clean_RD_df = pd.read_csv('./clean_RD_df.csv')\n",
    "\n",
    "display(clean_RD_df)\n",
    "display(clean_gdp_df)"
   ]
  },
  {
   "cell_type": "code",
   "execution_count": null,
   "id": "a8cb7b78-0731-43d9-b391-d0525db44788",
   "metadata": {},
   "outputs": [],
   "source": [
    "# rename time column\n",
    "clean_gdp_df.rename(columns={'time': 'year'}, inplace=True)"
   ]
  },
  {
   "cell_type": "code",
   "execution_count": null,
   "id": "80dec435-3fcc-475d-bd0f-9f7778e99199",
   "metadata": {},
   "outputs": [],
   "source": [
    "merged_df = pd.merge(clean_RD_df, clean_gdp_df, on=['year', 'area'], how='inner')\n",
    "display(merged_df)"
   ]
  },
  {
   "cell_type": "markdown",
   "id": "883e5093-c684-48c6-ab6a-ad64c964417b",
   "metadata": {},
   "source": [
    "### Export to `.csv`"
   ]
  },
  {
   "cell_type": "code",
   "execution_count": null,
   "id": "34958951-3dda-4007-8604-1ace37708f9e",
   "metadata": {},
   "outputs": [],
   "source": [
    "merged_df.reset_index(drop=True, inplace=True)\n",
    "merged_df.to_csv('merged_df.csv', index=False)"
   ]
  },
  {
   "cell_type": "code",
   "execution_count": null,
   "id": "4b1d49be-712e-40d2-a75e-274677d08d9d",
   "metadata": {},
   "outputs": [],
   "source": []
  }
 ],
 "metadata": {
  "kernelspec": {
   "display_name": "venv",
   "language": "python",
   "name": "venv"
  },
  "language_info": {
   "codemirror_mode": {
    "name": "ipython",
    "version": 3
   },
   "file_extension": ".py",
   "mimetype": "text/x-python",
   "name": "python",
   "nbconvert_exporter": "python",
   "pygments_lexer": "ipython3",
   "version": "3.12.2"
  }
 },
 "nbformat": 4,
 "nbformat_minor": 5
}
